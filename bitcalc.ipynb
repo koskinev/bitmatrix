{
 "cells": [
  {
   "metadata": {
    "trusted": true
   },
   "cell_type": "code",
   "source": "from copy import copy\nfrom dataclasses import dataclass\nfrom typing import Any\n\ndef _eval(a):\n    try: \n        res = a.result()\n        if res == a:\n            return copy(a)\n    except AttributeError:\n        res = a\n    return copy(res)\n\ndef _validate(a):\n    if a not in [0, 1] \\\n        and not isinstance(a, str) \\\n        and not isinstance(a, And) \\\n        and not isinstance(a, Or) \\\n        and not isinstance(a, Xor) \\\n        and not isinstance(a, Not):\n            raise ValueError(\"Value must be 0, 1, or an instance of str, And, Or, Xor, or Not.\")\n    return copy(a)\n\n@dataclass\nclass And:\n    a: Any\n    b: Any\n    \n    def __init__(self, a, b):\n        _validate(a)\n        _validate(b)\n        self.a = a\n        self.b = b\n\n    def result(self):\n        match self.a, self.b:\n            case (0, _) | (_, 0):\n                return 0\n            case (Not(a), b) | (a, Not(b)) if a == b:\n                return 0\n            case (1, a) | (a, 1):\n                return a\n            case _:\n                return self\n\n    def __repr__(self):\n        return f\"And({self.a}, {self.b})\"\n    def __str__(self):\n        r = self.result()\n        if r in [0,1] or isinstance(r,str):\n            return f\"{r}\"\n        else:\n            return f\"({self.a}&{self.b})\"\n\n@dataclass\nclass Or:\n    a: Any\n    b: Any\n        \n    def __init__(self, a, b):\n        _validate(a)\n        _validate(b)\n        self.a = a\n        self.b = b\n\n    def result(self):\n        match self.a, self.b:\n            case (1, _) | (_, 1):\n                return 1\n            case (Not(a), b) | (a, Not(b)) if a == b:\n                return 1\n            case (0, a) | (a, 0):\n                return a\n            case _:\n                return self\n\n    def __repr__(self):\n        return f\"Or({self.a}, {self.b})\"\n    \n    def __str__(self):\n        r = self.result()\n        if r in [0,1] or isinstance(r,str):\n            return f\"{r}\"\n        else:\n            return f\"({self.a}|{self.b})\"\n\n@dataclass\nclass Xor:\n    a: Any\n    b: Any\n        \n    def __init__(self, a, b):\n        self.a = _validate(a)\n        self.b = _validate(b)\n\n    def result(self):\n        l = _eval(self.a)\n        r = _eval(self.b)\n        match l, r:\n            case (0, a) | (a, 0):\n                return a\n            case (1, a) | (a, 1):\n                return Not(a)\n            case (a, b) if a == b:\n                return 0\n            case (Not(a), b) | (a, Not(b)) if a == b:\n                return 1\n            case (Xor(a,b),c) | (a,Xor(b,c)):\n                if a == b:\n                    return c\n                elif a == c:\n                    return b\n                elif b == c:\n                    return a\n                else:\n                    return copy(self)\n            case _:\n                return copy(self)\n    \n    def __str__(self):\n        return f\"({self.a}^{self.b})\"\n\n@dataclass\nclass Not:\n    a: Any\n        \n    def __init__(self, a):\n        _validate(a)\n        self.a = a\n\n    def result(self):\n        if self.a == 0:\n            return 1\n        if self.a == 1:\n            return 0\n        if isinstance(self.a, Not):\n            return self.a.a\n        else:\n            return Not(self.a)\n        \n    def __repr__(self):\n        return f\"Not({self.a})\"\n    \n    def __str__(self):\n        r = self.result()\n        if r in [0,1]:\n            return f\"{r}\"\n        return f\"!{self.a}\"\n\n# Example usage:\nassert And('a', 0).result()==0\nassert And('a', 1).result()=='a'\nassert And('a',Not('a')).result()==0\nassert Or('a', 1).result()==1\nassert Or('a', 0).result()=='a'\nassert Or('a',Not('a')).result()==1\nassert Xor('a', 1).result()==Not('a')\nassert Xor('a', 0).result()=='a'\nassert Xor('a',Not('a')).result()==1\nassert Xor('a','a').result()==0\nassert Xor('a',Xor('a','b')).result()=='b'\nassert Not(Not('a')).result()=='a'",
   "execution_count": 1,
   "outputs": []
  },
  {
   "metadata": {
    "trusted": false
   },
   "cell_type": "code",
   "source": "class Bit:\n    def __init__(self, a):\n        _validate(a)\n        self.a = a\n    \n    def __and__(self,b):\n        _validate(b)\n        Bit(And(self.a,b))\n    \n    def __or__(self,b):\n        _validate(b)\n        Bit(Or(self.a,b))\n        \n    def __xor__(self,b):\n        _validate(b)\n        Bit(Xor(self.a,b))\n        \n    def __not__(self):\n        Bit(Not(self.a))\n\n\n",
   "execution_count": null,
   "outputs": []
  }
 ],
 "metadata": {
  "kernelspec": {
   "name": "python3",
   "display_name": "Python 3",
   "language": "python"
  },
  "language_info": {
   "name": "python",
   "version": "3.10.4",
   "mimetype": "text/x-python",
   "codemirror_mode": {
    "name": "ipython",
    "version": 3
   },
   "pygments_lexer": "ipython3",
   "nbconvert_exporter": "python",
   "file_extension": ".py"
  }
 },
 "nbformat": 4,
 "nbformat_minor": 2
}